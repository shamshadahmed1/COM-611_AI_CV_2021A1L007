{
 "cells": [
  {
   "cell_type": "markdown",
   "id": "ca60fb46",
   "metadata": {},
   "source": [
    "# Implement the detection of Eye or face or Smile from the Image."
   ]
  },
  {
   "cell_type": "markdown",
   "id": "a4122ead",
   "metadata": {},
   "source": [
    "Importing Libraries"
   ]
  },
  {
   "cell_type": "code",
   "execution_count": 1,
   "id": "e398639c",
   "metadata": {},
   "outputs": [],
   "source": [
    "import numpy as np\n",
    "import cv2"
   ]
  },
  {
   "cell_type": "markdown",
   "id": "fbee326c",
   "metadata": {},
   "source": [
    "Loading Various Models"
   ]
  },
  {
   "cell_type": "code",
   "execution_count": 2,
   "id": "ffaebfec",
   "metadata": {},
   "outputs": [],
   "source": [
    "# load models\n",
    "face_cascade = cv2.CascadeClassifier(cv2.data.haarcascades + 'haarcascade_frontalface_default.xml')\n",
    "eye_cascade = cv2.CascadeClassifier(cv2.data.haarcascades + 'haarcascade_eye.xml')\n",
    "smile_cascade = cv2.CascadeClassifier(cv2.data.haarcascades + 'haarcascade_smile.xml')"
   ]
  },
  {
   "cell_type": "markdown",
   "id": "ae214a5d",
   "metadata": {},
   "source": [
    "Loading Image "
   ]
  },
  {
   "cell_type": "code",
   "execution_count": 3,
   "id": "fb6a3985",
   "metadata": {},
   "outputs": [],
   "source": [
    "#loading Image\n",
    "img = cv2.imread(\"family1.jpg\")  # Load image\n",
    "cv2.imshow(\"Image\", img)  # Display the image\n",
    "cv2.waitKey(0)  # Wait for a key press\n",
    "cv2.destroyAllWindows()  # Close all windows"
   ]
  },
  {
   "cell_type": "markdown",
   "id": "6fa5888a",
   "metadata": {},
   "source": [
    "Converting to GrayScale Image"
   ]
  },
  {
   "cell_type": "code",
   "execution_count": 4,
   "id": "11a637f1",
   "metadata": {},
   "outputs": [],
   "source": [
    "gray = cv2.cvtColor(img, cv2.COLOR_BGR2GRAY)  # Convert to grayscale\n",
    "cv2.imshow(\"Grayscale Image\", gray)  # Display the grayscale image\n",
    "cv2.waitKey(0)  # Wait for a key press\n",
    "cv2.destroyAllWindows()  # Close all windows"
   ]
  },
  {
   "cell_type": "markdown",
   "id": "333fcfad",
   "metadata": {},
   "source": [
    "Detecting Face,Eye And Smile"
   ]
  },
  {
   "cell_type": "code",
   "execution_count": 5,
   "id": "36827740",
   "metadata": {},
   "outputs": [],
   "source": [
    "#detect\n",
    "face_cascade = cv2.CascadeClassifier(cv2.data.haarcascades + 'haarcascade_frontalface_default.xml')\n",
    "eye_cascade = cv2.CascadeClassifier(cv2.data.haarcascades + 'haarcascade_eye.xml')\n",
    "smile_cascade = cv2.CascadeClassifier(cv2.data.haarcascades + 'haarcascade_smile.xml')"
   ]
  },
  {
   "cell_type": "code",
   "execution_count": 6,
   "id": "fcdb0b17",
   "metadata": {},
   "outputs": [],
   "source": [
    "faces = face_cascade.detectMultiScale(gray, 1.3, 5)"
   ]
  },
  {
   "cell_type": "markdown",
   "id": "8c0e0985",
   "metadata": {},
   "source": [
    "Drawing boundraries "
   ]
  },
  {
   "cell_type": "code",
   "execution_count": 7,
   "id": "d259dacc",
   "metadata": {},
   "outputs": [],
   "source": [
    "# draw bounding boxes for each face detected\n",
    "for (x,y,w,h) in faces:\n",
    "    img = cv2.rectangle(img, (x,y), (x + w, y + h), (255,0,0), 2)\n",
    "    roi_gray = gray[y:y+h, x:x+w] # roi: region of interest\n",
    "    roi_color = img[y:y+h, x:x+w]\n",
    "    eyes = eye_cascade.detectMultiScale(roi_gray)\n",
    "    for (ex,ey,ew,eh) in eyes:\n",
    "        cv2.rectangle(roi_color,(ex,ey),(ex+ew,ey+eh),(0,255,0),2)\n",
    "        \n",
    "\n",
    "cv2.imshow(\"Image\", img)\n",
    "cv2.waitKey(0)\n",
    "cv2.destroyAllWindows()"
   ]
  },
  {
   "cell_type": "markdown",
   "id": "a9cf1421",
   "metadata": {},
   "source": [
    "Loading Image and converting to GrayScale"
   ]
  },
  {
   "cell_type": "code",
   "execution_count": 8,
   "id": "90842360",
   "metadata": {},
   "outputs": [],
   "source": [
    "img = cv2.imread(\"family1.jpg\")  # Load image\n",
    "cv2.imshow(\"Image\", img)  # Display the image\n",
    "cv2.waitKey(0)  # Wait for a key press\n",
    "cv2.destroyAllWindows() # Close all windows\n",
    "gray = cv2.cvtColor(img, cv2.COLOR_BGR2GRAY)"
   ]
  },
  {
   "cell_type": "markdown",
   "id": "9675a10c",
   "metadata": {},
   "source": [
    "Detection Of Faces"
   ]
  },
  {
   "cell_type": "code",
   "execution_count": 9,
   "id": "9089764f",
   "metadata": {},
   "outputs": [],
   "source": [
    "# detect\n",
    "faces = face_cascade.detectMultiScale(gray, 1.3, 5)"
   ]
  },
  {
   "cell_type": "markdown",
   "id": "00546f6b",
   "metadata": {},
   "source": [
    "Drawing boundraries"
   ]
  },
  {
   "cell_type": "code",
   "execution_count": 10,
   "id": "881321a5",
   "metadata": {},
   "outputs": [],
   "source": [
    "# draw bounding boxes for each face detected\n",
    "for (x,y,w,h) in faces:\n",
    "    img = cv2.rectangle(img, (x,y), (x + w, y + h), (255,0,0), 2)\n",
    "    roi_gray = gray[y:y+h, x:x+w] # roi: region of interest\n",
    "    roi_color = img[y:y+h, x:x+w]\n",
    "\n",
    "    eyes = eye_cascade.detectMultiScale(roi_gray)\n",
    "    for (ex,ey,ew,eh) in eyes:\n",
    "      cv2.rectangle(roi_color,(ex,ey),(ex+ew,ey+eh),(0,255,0),2)\n",
    "\n",
    "    smiles = smile_cascade.detectMultiScale(roi_gray)\n",
    "    for (sx, sy, sw, sh) in smiles:\n",
    "      cv2.rectangle(roi_color, (sx, sy), ((sx + sw), (sy + sh)), (0, 0, 255), 2)"
   ]
  },
  {
   "cell_type": "markdown",
   "id": "1849078e",
   "metadata": {},
   "source": [
    "Showing the Final result"
   ]
  },
  {
   "cell_type": "code",
   "execution_count": 11,
   "id": "0b3c330d",
   "metadata": {},
   "outputs": [],
   "source": [
    "cv2.imshow(\"Image\", img)\n",
    "cv2.waitKey(0)\n",
    "cv2.destroyAllWindows()"
   ]
  },
  {
   "cell_type": "code",
   "execution_count": null,
   "id": "3ff06e18",
   "metadata": {},
   "outputs": [],
   "source": []
  }
 ],
 "metadata": {
  "kernelspec": {
   "display_name": "Python 3 (ipykernel)",
   "language": "python",
   "name": "python3"
  },
  "language_info": {
   "codemirror_mode": {
    "name": "ipython",
    "version": 3
   },
   "file_extension": ".py",
   "mimetype": "text/x-python",
   "name": "python",
   "nbconvert_exporter": "python",
   "pygments_lexer": "ipython3",
   "version": "3.9.12"
  }
 },
 "nbformat": 4,
 "nbformat_minor": 5
}
