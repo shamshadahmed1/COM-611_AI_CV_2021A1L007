{
  "nbformat": 4,
  "nbformat_minor": 0,
  "metadata": {
    "colab": {
      "provenance": []
    },
    "kernelspec": {
      "name": "python3",
      "display_name": "Python 3"
    },
    "language_info": {
      "name": "python"
    }
  },
  "cells": [
    {
      "cell_type": "code",
      "execution_count": 9,
      "metadata": {
        "id": "H7uMVbabzePs"
      },
      "outputs": [],
      "source": [
        "from bs4 import BeautifulSoup\n",
        "import requests"
      ]
    },
    {
      "cell_type": "code",
      "source": [
        "# Function to extract Product Title\n",
        "def get_title(soup):\n",
        "    try:\n",
        "        title = soup.find(\"span\", attrs = {\"id\":\"productTitle\"})\n",
        "        title_string = title.get_text(strip=True)\n",
        "    except AttributeError:\n",
        "        title_string = \"\"\n",
        "    return title_string"
      ],
      "metadata": {
        "id": "v8m1t6KqZK4d"
      },
      "execution_count": 10,
      "outputs": []
    },
    {
      "cell_type": "code",
      "source": [
        "# Function to extract product price\n",
        "def get_price(soup):\n",
        "    try:\n",
        "        price = soup.find(\"span\", attrs = {\"class\": \"a-offscreen\"})\n",
        "        if price is not None:\n",
        "            price_string = price.get_text(strip = True)\n",
        "        else:\n",
        "            price_string = \"\"\n",
        "    except AttributeError:\n",
        "        price_string = \"\"\n",
        "    return price_string"
      ],
      "metadata": {
        "id": "d4gBt9qaZPjp"
      },
      "execution_count": 11,
      "outputs": []
    },
    {
      "cell_type": "code",
      "source": [
        "# Function to extract product rating\n",
        "def get_rating(soup):\n",
        "    try:\n",
        "        rating = soup.find(\"span\", attrs = {\"class\": \"a-icon-alt\"})\n",
        "        if rating is not None:\n",
        "            rating_string = rating.get_text(strip = True)\n",
        "        else:\n",
        "            rating_string = \"\"\n",
        "    except AttributeError:\n",
        "        rating_string = \"\"\n",
        "    return rating_string"
      ],
      "metadata": {
        "id": "KlhTdS6_ZS0h"
      },
      "execution_count": 12,
      "outputs": []
    },
    {
      "cell_type": "code",
      "source": [
        "# Function ton extract Number of User Reviews\n",
        "def get_review_count(soup):\n",
        "    try:\n",
        "        review_count = soup.find(\"span\", attrs = {\"id\": \"acrCustomerReviewText\"})\n",
        "        if review_count is not None:\n",
        "            review_count_string = review_count.get_text(strip=True)\n",
        "        else:\n",
        "            review_count_string = \"\"\n",
        "    except AttributeError:\n",
        "        review_count_string = \"\"\n",
        "    return review_count_string"
      ],
      "metadata": {
        "id": "Ok2ymn4dZTyJ"
      },
      "execution_count": 13,
      "outputs": []
    },
    {
      "cell_type": "code",
      "source": [
        "# Function to extract Availability status\n",
        "def get_availability(soup):\n",
        "    try:\n",
        "        availability = soup.find(\"div\", attrs = {\"id\": \"availability\"})\n",
        "        if availability is not None:\n",
        "            availability_string = availability.get_text(strip = True)\n",
        "        else:\n",
        "            availability_string = \"\"\n",
        "    except AttributeError:\n",
        "        availability_string = \"\"\n",
        "    return availability_string"
      ],
      "metadata": {
        "id": "8yBX8fEzZX0d"
      },
      "execution_count": 14,
      "outputs": []
    },
    {
      "cell_type": "code",
      "source": [
        "if __name__ == \"__main__\":\n",
        "    # Headers for request\n",
        "    headers = {\n",
        "        \"User-Agent\" : \"Mozilla/5.0 (X11; Linux x86_64) AppleWebKit/537.36 (KHTML, like Gecko) Chrome/44.0.2043.157 Safari/537.36\",\n",
        "        \"Accept-Language\": \"en-US, en; q = 0.5\"\n",
        "    }\n",
        "    \n",
        "    # The webpage URL\n",
        "    url = \"https://www.amazon.com/Sony-Playstation-Pro-1TB-Console-4/dp/B07K14XKZH/\"\n",
        "    \n",
        "    # HTTP request\n",
        "    webpage = requests.get(url, headers = headers)\n",
        "    \n",
        "    # Soup Object containing all data\n",
        "    soup = BeautifulSoup(webpage.content, \"html.parser\")\n",
        "    \n",
        "    #Function calls to display all necessary product information\n",
        "    print(\"Product Title =\", get_title(soup))\n",
        "    print(\"Product Price =\", get_price(soup))\n",
        "    print(\"Product Rating=\", get_rating(soup))\n",
        "    print(\"Number of Product Reviews =\", get_review_count(soup))\n",
        "    print(\"Availability =\", get_availability(soup))"
      ],
      "metadata": {
        "colab": {
          "base_uri": "https://localhost:8080/"
        },
        "id": "7nwYWe5HZeyS",
        "outputId": "997906ab-35c6-4eb6-f3ee-c2dc3e089343"
      },
      "execution_count": 15,
      "outputs": [
        {
          "output_type": "stream",
          "name": "stdout",
          "text": [
            "Product Title = Sony PlayStation 4 Pro 1TB Console - Black (PS4 Pro)\n",
            "Product Price = $216.00\n",
            "Product Rating= 4.5 out of 5 stars\n",
            "Number of Product Reviews = 4,212 ratings\n",
            "Availability = Only 2 left in stock - order soon\n"
          ]
        }
      ]
    }
  ]
}