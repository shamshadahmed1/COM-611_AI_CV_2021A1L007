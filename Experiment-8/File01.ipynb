{
 "cells": [
  {
   "cell_type": "markdown",
   "id": "e9f82ed4",
   "metadata": {},
   "source": [
    "# Implementing Image Processing Basics"
   ]
  },
  {
   "cell_type": "markdown",
   "id": "2f2862ce",
   "metadata": {},
   "source": [
    "### Converting Image to RGB TO BGR and TO GRAYSCALE, Creating a White/Black Color Image, How to draw shapes in images "
   ]
  },
  {
   "cell_type": "markdown",
   "id": "adf56a08",
   "metadata": {},
   "source": [
    "Importing Libraries"
   ]
  },
  {
   "cell_type": "code",
   "execution_count": null,
   "id": "21ca7364",
   "metadata": {},
   "outputs": [],
   "source": [
    "import cv2\n",
    "import numpy as np"
   ]
  },
  {
   "cell_type": "markdown",
   "id": "279096f8",
   "metadata": {},
   "source": [
    "Converting to GrayScale Image"
   ]
  },
  {
   "cell_type": "code",
   "execution_count": null,
   "id": "ea7d0ba9",
   "metadata": {},
   "outputs": [],
   "source": [
    "def convert_to_grayscale(image_path):\n",
    "    #loading Image\n",
    "    image = cv2.imread(image_path)\n",
    "    #convering the image to grayscale\n",
    "    grayscale_image = cv2.cvtColor(image,cv2.COLOR_BGR2GRAY)\n",
    "    #display the original and grayscale images\n",
    "    cv2.imshow('Original Image',image)\n",
    "    cv2.imshow('GRAYSCALE Image',grayscale_image)\n",
    "    cv2.waitKey(0)\n",
    "    cv2.destroyAllWindows()"
   ]
  },
  {
   "cell_type": "code",
   "execution_count": null,
   "id": "436bfcc4",
   "metadata": {},
   "outputs": [],
   "source": [
    "def convert_to_bgr(image_path,output_path):\n",
    "    #load the image\n",
    "    image = cv2.imread(image_path)\n",
    "    #Convert the image to BGR color space \n",
    "    bgr_image = cv2.cvtColor(image,cv2.COLOR_RGB2BGR)\n",
    "    #display the original and bgr images\n",
    "    cv2.imshow('Original Image',image)\n",
    "    cv2.imshow('BGR Image',bgr_image)\n",
    "    cv2.waitKey(0)\n",
    "    cv2.destroyAllWindows()\n",
    "    #save the BGR image\n",
    "    cv2.imwrite(output_path,bgr_image)\n",
    "    print(\"BGR Image saved as \",output_path)"
   ]
  },
  {
   "cell_type": "markdown",
   "id": "bb424ed4",
   "metadata": {},
   "source": [
    "Converting BGR to RGB"
   ]
  },
  {
   "cell_type": "code",
   "execution_count": null,
   "id": "864004ff",
   "metadata": {},
   "outputs": [],
   "source": [
    "def convert_bgr_to_rgb(output_path):\n",
    "    #load Image\n",
    "    image_bgr = cv2.imread(output_path)\n",
    "    #convert the image from BGR to RGB color space\n",
    "    image_rgb = cv2.cvtColor(image_bgr,cv2.COLOR_BGR2RGB)\n",
    "    #display the original BGR image and the converted RGB image\n",
    "    cv2.imshow('BGR Image',image_bgr)\n",
    "    cv2.imshow('RGB Image',image_rgb)\n",
    "    cv2.waitKey(0)\n",
    "    cv2.destroyAllWindows()"
   ]
  },
  {
   "cell_type": "code",
   "execution_count": null,
   "id": "d68b2d59",
   "metadata": {},
   "outputs": [],
   "source": [
    "#main Program\n",
    "image_path = 'image.jpg'\n",
    "output_path = 'bgr_image.jpg'"
   ]
  },
  {
   "cell_type": "code",
   "execution_count": null,
   "id": "19423191",
   "metadata": {},
   "outputs": [],
   "source": [
    "#convert image to grayscale\n",
    "convert_to_grayscale(image_path)"
   ]
  },
  {
   "cell_type": "code",
   "execution_count": null,
   "id": "7a17cf24",
   "metadata": {},
   "outputs": [],
   "source": [
    "#convert image to BGR and save it\n",
    "convert_to_bgr(image_path,output_path)"
   ]
  },
  {
   "cell_type": "code",
   "execution_count": null,
   "id": "c01b2bb1",
   "metadata": {},
   "outputs": [],
   "source": [
    "#convert BGR image to RGB\n",
    "convert_bgr_to_rgb(output_path)"
   ]
  },
  {
   "cell_type": "markdown",
   "id": "54332095",
   "metadata": {},
   "source": [
    "Creating White Image"
   ]
  },
  {
   "cell_type": "code",
   "execution_count": null,
   "id": "8cd5fd06",
   "metadata": {},
   "outputs": [],
   "source": [
    "def create_white_image(width,height):\n",
    "    #create a white color Image\n",
    "    white_image = np.ones((height,width,3),dtype = np.uint8) * 255\n",
    "    #display the white image \n",
    "    cv2.imshow('White Image',white_image)\n",
    "    cv2.waitKey(0)\n",
    "    cv2.destroyAllWindows()\n",
    "    "
   ]
  },
  {
   "cell_type": "markdown",
   "id": "1eb2f15c",
   "metadata": {},
   "source": [
    "Creating Black Image"
   ]
  },
  {
   "cell_type": "code",
   "execution_count": null,
   "id": "9c2971a5",
   "metadata": {},
   "outputs": [],
   "source": [
    "def create_black_image(width,height):\n",
    "    #create a white color Image\n",
    "    black_image = np.zeros((height,width,3),dtype = np.uint8)\n",
    "    #display the white image \n",
    "    cv2.imshow('Black Image',black_image)\n",
    "    cv2.waitKey(0)\n",
    "    cv2.destroyAllWindows()  "
   ]
  },
  {
   "cell_type": "markdown",
   "id": "eb1733b5",
   "metadata": {},
   "source": [
    "Drawing Shapes On image"
   ]
  },
  {
   "cell_type": "code",
   "execution_count": null,
   "id": "f5809cc2",
   "metadata": {},
   "outputs": [],
   "source": [
    "def draw_shapes_on_image(image_path):\n",
    "    #load Image\n",
    "    image = cv2.imread(image_path)\n",
    "    #draw a rectangle on the image\n",
    "    cv2.circle(image,(50,50),(200,200),(0,255,0),2)\n",
    "    #draw a circle on the image\n",
    "    cv2.circle(image,(300,150),(400,250),(255,0,0),2)\n",
    "    #draw a line on the image\n",
    "    cv2.line(image,(400,50),(400,250),(255,0,0),2)\n",
    "    #display the image\n",
    "    cv.imshow('Image with Shapes',image)\n",
    "    cv2.waitKey(0)\n",
    "    cv2.destroyAllWindows()"
   ]
  },
  {
   "cell_type": "code",
   "execution_count": null,
   "id": "09a5ea2e",
   "metadata": {},
   "outputs": [],
   "source": [
    "#main Program\n",
    "width,height = 800,600\n"
   ]
  },
  {
   "cell_type": "code",
   "execution_count": null,
   "id": "7574d0cf",
   "metadata": {},
   "outputs": [],
   "source": [
    "#create a white image\n",
    "create_white_image(width,height)"
   ]
  },
  {
   "cell_type": "code",
   "execution_count": null,
   "id": "41fd3953",
   "metadata": {},
   "outputs": [],
   "source": [
    "#create a Black Image\n",
    "create_black_image(width,height)\n"
   ]
  },
  {
   "cell_type": "code",
   "execution_count": null,
   "id": "5df7c6f7",
   "metadata": {},
   "outputs": [],
   "source": [
    "#draw shapes\n",
    "image_path = 'image.jpg'\n",
    "draw_shapes_on_image(image_path)"
   ]
  },
  {
   "cell_type": "code",
   "execution_count": null,
   "id": "179ef5fd",
   "metadata": {},
   "outputs": [],
   "source": []
  }
 ],
 "metadata": {
  "kernelspec": {
   "display_name": "Python 3 (ipykernel)",
   "language": "python",
   "name": "python3"
  },
  "language_info": {
   "codemirror_mode": {
    "name": "ipython",
    "version": 3
   },
   "file_extension": ".py",
   "mimetype": "text/x-python",
   "name": "python",
   "nbconvert_exporter": "python",
   "pygments_lexer": "ipython3",
   "version": "3.10.4"
  }
 },
 "nbformat": 4,
 "nbformat_minor": 5
}
